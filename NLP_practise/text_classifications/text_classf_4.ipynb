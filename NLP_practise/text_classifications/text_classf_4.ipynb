{
  "nbformat": 4,
  "nbformat_minor": 0,
  "metadata": {
    "colab": {
      "name": "text_classf_4.ipynb",
      "provenance": [],
      "collapsed_sections": []
    },
    "kernelspec": {
      "name": "python3",
      "display_name": "Python 3"
    },
    "language_info": {
      "name": "python"
    },
    "accelerator": "GPU"
  },
  "cells": [
    {
      "cell_type": "code",
      "execution_count": null,
      "metadata": {
        "colab": {
          "base_uri": "https://localhost:8080/"
        },
        "id": "LvvQzI9Ej7hw",
        "outputId": "514ff377-cacc-403b-d2bb-b0a614dc0bfe"
      },
      "outputs": [
        {
          "output_type": "stream",
          "name": "stdout",
          "text": [
            "[nltk_data] Downloading package stopwords to /root/nltk_data...\n",
            "[nltk_data]   Unzipping corpora/stopwords.zip.\n"
          ]
        }
      ],
      "source": [
        "import numpy as np\n",
        "import re\n",
        "import nltk\n",
        "from sklearn.datasets import load_files\n",
        "nltk.download('stopwords')\n",
        "import pickle\n",
        "from nltk.corpus import stopwords"
      ]
    },
    {
      "cell_type": "code",
      "source": [
        "data_movie = load_files(\"txt_sentoken\")\n",
        "x,y = data_movie.data, data_movie.target"
      ],
      "metadata": {
        "id": "iOi07AIBmhlJ"
      },
      "execution_count": null,
      "outputs": []
    },
    {
      "cell_type": "code",
      "source": [
        "x[:2]"
      ],
      "metadata": {
        "id": "IQSqsc9Dm4ty"
      },
      "execution_count": null,
      "outputs": []
    },
    {
      "cell_type": "code",
      "source": [
        "len(x)"
      ],
      "metadata": {
        "id": "8jxIXcObm4yV"
      },
      "execution_count": null,
      "outputs": []
    },
    {
      "cell_type": "code",
      "source": [
        "doc=[]\n",
        "from nltk.stem import WordNetLemmatizer\n",
        "\n",
        "stemmer = WordNetLemmatizer\n",
        "\n",
        "for sen in range(0,len(x)):\n",
        "  #remove all special characters\n",
        "  s=re.sub(r'\\W',' ',str(x[sen]))\n",
        "\n",
        "  #remove all single characters\n",
        "  s=re.sub(r'\\s+[a-zA-Z]\\s+',' ',s)\n",
        "\n",
        "  #remove all single characters from the start\n",
        "  s=re.sub(r'\\^[a-zA-Z]\\s+',' ',s)\n",
        "\n",
        "  #sub many spaces into one space\n",
        "  s=re.sub(r'\\s+',' ',s)\n",
        "\n",
        "  #'\"mov\" p'fixed 'b'\n",
        "  s=re.sub(r'^b\\s+','',s)\n",
        "\n",
        "  #covert to lower\n",
        "  s=s.lower()\n",
        "\n",
        "  #lemmatization\n",
        "  s=s.split()\n",
        "\n",
        "  s= [stemmer.lemmatize(w) for w in s]\n",
        "  s= ' '.join(s)\n",
        "\n",
        "  doc.append(s)\n"
      ],
      "metadata": {
        "id": "O0V5UkySm429"
      },
      "execution_count": null,
      "outputs": []
    },
    {
      "cell_type": "code",
      "source": [
        "len(doc)"
      ],
      "metadata": {
        "id": "kXvz4twSm48e"
      },
      "execution_count": null,
      "outputs": []
    },
    {
      "cell_type": "code",
      "source": [
        "doc[0]"
      ],
      "metadata": {
        "id": "I-sTOE9wm5A9"
      },
      "execution_count": null,
      "outputs": []
    },
    {
      "cell_type": "code",
      "source": [
        "x[0]"
      ],
      "metadata": {
        "id": "mYLjI2t4sJzV"
      },
      "execution_count": null,
      "outputs": []
    },
    {
      "cell_type": "code",
      "source": [
        "# from sklearn.feature_extraction.text import CountVectorizer\n",
        "# vectorizer = CountVectorizer(max_features=1500, min_df=5, max_df=0.7, stop_words=stopwords.words('english'))\n",
        "# X = vectorizer.fit_transform(documents).toarray()"
      ],
      "metadata": {
        "id": "cy2YhAvUsMLJ"
      },
      "execution_count": null,
      "outputs": []
    },
    {
      "cell_type": "code",
      "source": [
        "# from sklearn.feature_extraction.text import TfidfTransformer\n",
        "# tfidfconverter = TfidfTransformer()\n",
        "# X = tfidfconverter.fit_transform(X).toarray()"
      ],
      "metadata": {
        "id": "a4mTm_L4sMNx"
      },
      "execution_count": null,
      "outputs": []
    },
    {
      "cell_type": "code",
      "source": [
        "from sklearn.feature_extraction.text import TfidfVectorizer\n",
        "tfidfvec =TfidfVectorizer(max_features=1500,min_df=5,max_df=0.7,stop_words=stopwords.words('english'))\n",
        "X=TfidfVectorizer.fit_transform(doc).toarray() "
      ],
      "metadata": {
        "id": "AFTMnd3ZsMQN"
      },
      "execution_count": null,
      "outputs": []
    },
    {
      "cell_type": "code",
      "source": [
        "from sklearn.model_selection import train_test_split\n",
        "X_train, X_test, y_train, y_test = train_test_split(X, y, test_size=0.2, random_state=0)"
      ],
      "metadata": {
        "id": "6d1kMKc9tCAq"
      },
      "execution_count": null,
      "outputs": []
    },
    {
      "cell_type": "code",
      "source": [
        "from sklearn.ensemble import RandomForestClassifier\n",
        "\n",
        "classifier = RandomForestClassifier(n_estimators=1000, random_state=0)\n",
        "classifier.fit(X_train, y_train) "
      ],
      "metadata": {
        "id": "iYXlA-w7tCEi"
      },
      "execution_count": null,
      "outputs": []
    },
    {
      "cell_type": "code",
      "source": [
        "y_pred = classifier.predict(X_test)"
      ],
      "metadata": {
        "id": "T4xNBZXNtIai"
      },
      "execution_count": null,
      "outputs": []
    },
    {
      "cell_type": "code",
      "source": [
        "from sklearn.metrics import classification_report, confusion_matrix, accuracy_score\n",
        "\n",
        "print(confusion_matrix(y_test,y_pred))\n",
        "print(classification_report(y_test,y_pred))\n",
        "print(accuracy_score(y_test, y_pred))"
      ],
      "metadata": {
        "id": "oJTFXHottKCR"
      },
      "execution_count": null,
      "outputs": []
    },
    {
      "cell_type": "code",
      "source": [
        "y_pred2 = classifier.predict(X_test)\n",
        "\n",
        "print(confusion_matrix(y_test, y_pred2))\n",
        "print(classification_report(y_test, y_pred2))\n",
        "print(accuracy_score(y_test, y_pred2)) "
      ],
      "metadata": {
        "id": "HV2NVXQOtL6S"
      },
      "execution_count": null,
      "outputs": []
    }
  ]
}